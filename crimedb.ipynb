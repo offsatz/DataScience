# -*- coding: utf-8 -*-
# <nbformat>3.0</nbformat>

# <headingcell level=1>

# Quick glance at the Chicago Crime data

# <codecell>

import pandas as pd
import numpy as np
from numpy import nan
from numpy import nan
from pandas import DataFrame, Series
import matplotlib.pyplot as plt
pd.options.display.mpl_style = 'default'
import csv
%pylab inline

# <codecell>

            
# Set some Pandas options
pd.set_option('display.notebook_repr_html', False)
pd.set_option('display.max_columns', 500)
pd.set_option('display.max_rows', 500)

dia = csv.excel()
dia.quaoting = csv.QUOTE_NONE
df = pd.read_csv('/Users/sathishjayadevan/Documents/crime data - chicago/Crimes_-_2001_to_present.csv', dialect=dia)

# <codecell>

df

# <codecell>

#columns in the dataframe
df.columns

# <headingcell level=2>

# Creating the subset for selected columns

# <codecell>

 crime = df[['Date','Primary Type','Arrest','District','Year']]

# <codecell>

#first 10 rows of the dataframe crime
crime[:10]

# <codecell>

#columns of the crime dataframe
crime.columns

# <codecell>

#renaming the column name
crime.rename(columns={'Primary Type':'Primary_Type'},inplace=True)

# <codecell>

crime.columns

# <codecell>

#count of different typr of crimes
crime.Primary_Type.value_counts()

# <headingcell level=3>

# Same classes with different names, replacing 'INTERFERE WITH PUBLIC OFFICER' with 'INTERFERENCE WITH PUBLIC OFFICER'

# <codecell>

#replacing a crime type
crime.Primary_Type.replace(to_replace='INTERFERE WITH PUBLIC OFFICER', value = 'INTERFERENCE WITH PUBLIC OFFICER' ,inplace = True) 

# <codecell>

crime.Primary_Type.value_counts()

# <headingcell level=2>

# To remove duplicate values in 'District'

# <codecell>

crime.District.value_counts() 

# <codecell>

#to convert float datatypes to int and strip the string type values in district
fun = lambda x: x.strip() if type(x) is str else int(x) if type(x) is float else x
crime.District = crime.District.dropna().map(fun)
crime.District = crime.District.fillna('Missing')
crime.District[crime.District == ''] = 999
crime.District.value_counts()

# <codecell>

#to replace the string value in the district
map_data = { '008':8,'007':7,'011':11,'006':6,'025':25,'004':4,'003':3,'009':9,'012':12,'005':5,'002':2,'015':15,'019':19,
            '018':18,'010':10,'014':14,'001':1,'022':22,'016':16,'024':24,'017':17,'020':20,'999':99, '031':31,'021':21 }
crime.District = crime.District.map(lambda x: map_data[x.strip()] if x in map_data else x)
crime.District.value_counts() 

# <codecell>

#creating a new dataframe for district 8
dist_8 = crime[crime.District == 8]
dist_8

# <codecell>

#distinct crimes in district 8
dist_8.Primary_Type.value_counts()

# <codecell>

#crosstabulation between crimes and district
cd_count = pd.crosstab(crime.District, crime.Primary_Type)
cd_count

# <codecell>

#sorting based on the crime type, 
cd_count.sort_index(by='BATTERY', ascending = False, inplace = True) 
cd_count

# <codecell>

cd_count.first_valid_index()

# <codecell>

# Normalize types of crime for each district 
crime_norm = cd_count.div(cd_count.sum(1).astype(float), axis=0)
crime_norm.sort('THEFT',ascending = False)

# <codecell>

#plotting normalized crimes with districts
colors = ['r', 'g', 'b', 'c', 'y', 'w', 'm', 'k', 'burlywood','navy', 'teal', 'LightSteelBlue', 'Honeydew', 'Goldenrod','BlueViolet',	'Brown',	'BurlyWood',	'CadetBlue',	'Chartreuse',	'Chocolate',	'Coral',	'CornflowerBlue',	'Cornsilk',	'Crimson',	'Cyan',	'DarkBlue',	'DarkCyan',	'DarkGoldenRod',	'DarkGray',	'DarkGreen','DarkKhaki']
plot1 = crime_norm.plot(kind = 'barh', stacked = True, color = colors)
plot1.legend(loc=0, bbox_to_anchor=(1,1))

# <headingcell level=1>

# Time Series

# <codecell>

cd_series = pd.crosstab(crime['Date'],crime['Primary_Type'])
cd_series

# <codecell>

#setting index as date time format
cd_series.index = pd.to_datetime(cd_series.index) 

# <codecell>

# Date filtering
cd_series.ix['2012-01'].sum()

# <codecell>

year_2013 = cd_series.ix['2013']

# <codecell>

# Resample data to monthly periods
year_2013.resample('M', how='mean', kind='period').plot()
legend(loc=0, bbox_to_anchor=(1,1))

# <codecell>

# Resample data to all years
cd_series.resample('M', how='mean', kind='period').plot()
legend(loc=0, bbox_to_anchor=(1,1))

# <codecell>


